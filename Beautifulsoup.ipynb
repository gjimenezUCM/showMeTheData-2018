{
 "cells": [
  {
   "cell_type": "markdown",
   "metadata": {},
   "source": [
    "# Beautiful Soup (BS4)\n",
    "\n",
    "BS4 es una librería para extraer datos de documentos con lenguajes de marcado como HTML o XML. Permite navegar por el árbol del documento, estraer datos, modificarlo, etc. Como veremos, es recomendable conocer el funcionamiento de las reglas CSS para sacar el máximo partido a esta librería.\n",
    "\n",
    "Como vemos en este primer ejemplo, BS4 tan solo analiza texto en formato HTML o XML. Aquí está la [documentación completa de Beautiful Soup 4.](https://www.crummy.com/software/BeautifulSoup/bs4/doc/)"
   ]
  },
  {
   "cell_type": "code",
   "execution_count": 1,
   "metadata": {
    "ExecuteTime": {
     "end_time": "2018-02-08T19:49:10.804032Z",
     "start_time": "2018-02-08T19:49:10.779644Z"
    },
    "collapsed": true
   },
   "outputs": [],
   "source": [
    "from bs4 import BeautifulSoup\n",
    "\n",
    "html_doc = \"\"\"\n",
    "<html><head><title>The Dormouse's story</title></head>\n",
    "<body>\n",
    "<p class=\"title\"><b>The Dormouse's story</b></p>\n",
    "\n",
    "<p class=\"story\">Once upon a time there were three little sisters; and their names were\n",
    "<a href=\"http://example.com/elsie\" class=\"sister\" id=\"link1\">Elsie</a>,\n",
    "<a href=\"http://example.com/lacie\" class=\"sister\" id=\"link2\">Lacie</a> and\n",
    "<a href=\"http://example.com/tillie\" class=\"sister\" id=\"link3\">Tillie</a>;\n",
    "and they lived at the bottom of a well.</p>\n",
    "\n",
    "<p class=\"story\">...</p>\n",
    "\"\"\"\n",
    "\n",
    "# Cargamos el \n",
    "soup = BeautifulSoup(html_doc, 'lxml')"
   ]
  },
  {
   "cell_type": "markdown",
   "metadata": {},
   "source": [
    "Podemos navegar directamente por la estructura usando `.`\n"
   ]
  },
  {
   "cell_type": "code",
   "execution_count": 2,
   "metadata": {
    "ExecuteTime": {
     "end_time": "2018-02-08T19:49:10.812755Z",
     "start_time": "2018-02-08T19:49:10.804919Z"
    },
    "collapsed": false
   },
   "outputs": [
    {
     "data": {
      "text/plain": [
       "<title>The Dormouse's story</title>"
      ]
     },
     "execution_count": 2,
     "metadata": {},
     "output_type": "execute_result"
    }
   ],
   "source": [
    "soup.title\n"
   ]
  },
  {
   "cell_type": "code",
   "execution_count": 3,
   "metadata": {
    "ExecuteTime": {
     "end_time": "2018-02-08T19:49:10.816257Z",
     "start_time": "2018-02-08T19:49:10.813842Z"
    },
    "collapsed": false
   },
   "outputs": [
    {
     "data": {
      "text/plain": [
       "<p class=\"title\"><b>The Dormouse's story</b></p>"
      ]
     },
     "execution_count": 3,
     "metadata": {},
     "output_type": "execute_result"
    }
   ],
   "source": [
    "soup.p\n"
   ]
  },
  {
   "cell_type": "code",
   "execution_count": 4,
   "metadata": {
    "ExecuteTime": {
     "end_time": "2018-02-08T19:49:10.819142Z",
     "start_time": "2018-02-08T19:49:10.817050Z"
    },
    "collapsed": false
   },
   "outputs": [
    {
     "data": {
      "text/plain": [
       "'Elsie'"
      ]
     },
     "execution_count": 4,
     "metadata": {},
     "output_type": "execute_result"
    }
   ],
   "source": [
    "soup.a.text"
   ]
  },
  {
   "cell_type": "markdown",
   "metadata": {},
   "source": [
    "Podemos acceder también a los atributos de un elemento"
   ]
  },
  {
   "cell_type": "code",
   "execution_count": 5,
   "metadata": {
    "ExecuteTime": {
     "end_time": "2018-02-08T19:49:10.822294Z",
     "start_time": "2018-02-08T19:49:10.820140Z"
    },
    "collapsed": false
   },
   "outputs": [
    {
     "data": {
      "text/plain": [
       "{'class': ['sister'], 'href': 'http://example.com/elsie', 'id': 'link1'}"
      ]
     },
     "execution_count": 5,
     "metadata": {},
     "output_type": "execute_result"
    }
   ],
   "source": [
    "soup.a.attrs"
   ]
  },
  {
   "cell_type": "code",
   "execution_count": 6,
   "metadata": {
    "ExecuteTime": {
     "end_time": "2018-02-08T19:49:10.825397Z",
     "start_time": "2018-02-08T19:49:10.823038Z"
    },
    "collapsed": false
   },
   "outputs": [
    {
     "data": {
      "text/plain": [
       "['sister']"
      ]
     },
     "execution_count": 6,
     "metadata": {},
     "output_type": "execute_result"
    }
   ],
   "source": [
    "soup.a['class']\n",
    "# Equivalente a soup.a.attrs['class]"
   ]
  },
  {
   "cell_type": "markdown",
   "metadata": {},
   "source": [
    "También podemos acceder a padre, hijos y hermanos de un elemento"
   ]
  },
  {
   "cell_type": "code",
   "execution_count": 7,
   "metadata": {
    "ExecuteTime": {
     "end_time": "2018-02-08T19:49:10.832124Z",
     "start_time": "2018-02-08T19:49:10.829810Z"
    },
    "collapsed": false
   },
   "outputs": [
    {
     "data": {
      "text/plain": [
       "',\\n'"
      ]
     },
     "execution_count": 7,
     "metadata": {},
     "output_type": "execute_result"
    }
   ],
   "source": [
    "soup.a.nextSibling"
   ]
  },
  {
   "cell_type": "code",
   "execution_count": 8,
   "metadata": {
    "ExecuteTime": {
     "end_time": "2018-02-08T19:49:10.839354Z",
     "start_time": "2018-02-08T19:49:10.836998Z"
    },
    "collapsed": false
   },
   "outputs": [
    {
     "data": {
      "text/plain": [
       "<a class=\"sister\" href=\"http://example.com/lacie\" id=\"link2\">Lacie</a>"
      ]
     },
     "execution_count": 8,
     "metadata": {},
     "output_type": "execute_result"
    }
   ],
   "source": [
    "soup.a.findNextSibling('a')"
   ]
  },
  {
   "cell_type": "code",
   "execution_count": 9,
   "metadata": {
    "ExecuteTime": {
     "end_time": "2018-02-08T19:49:10.846229Z",
     "start_time": "2018-02-08T19:49:10.843968Z"
    },
    "collapsed": false
   },
   "outputs": [
    {
     "data": {
      "text/plain": [
       "'p'"
      ]
     },
     "execution_count": 9,
     "metadata": {},
     "output_type": "execute_result"
    }
   ],
   "source": [
    "soup.a.parent.name"
   ]
  },
  {
   "cell_type": "markdown",
   "metadata": {},
   "source": [
    "Realmente, la parte más interesante es la de encontrar todos los elementos de un determinado tipo, o que sean de una determinada clase, o en el que alguno de sus atributos tenga algún valor especial. Esto lo haremos con:\n",
    "\n",
    "- `find`: encuentra el primer elemento\n",
    "- `findall`: genera una lista con todos los elementos que cumplen la condición."
   ]
  },
  {
   "cell_type": "code",
   "execution_count": 10,
   "metadata": {
    "ExecuteTime": {
     "end_time": "2018-02-08T19:49:10.855774Z",
     "start_time": "2018-02-08T19:49:10.853117Z"
    },
    "collapsed": false
   },
   "outputs": [
    {
     "data": {
      "text/plain": [
       "[<a class=\"sister\" href=\"http://example.com/elsie\" id=\"link1\">Elsie</a>,\n",
       " <a class=\"sister\" href=\"http://example.com/lacie\" id=\"link2\">Lacie</a>,\n",
       " <a class=\"sister\" href=\"http://example.com/tillie\" id=\"link3\">Tillie</a>]"
      ]
     },
     "execution_count": 10,
     "metadata": {},
     "output_type": "execute_result"
    }
   ],
   "source": [
    "soup.findAll('a')"
   ]
  },
  {
   "cell_type": "code",
   "execution_count": 11,
   "metadata": {
    "ExecuteTime": {
     "end_time": "2018-02-08T19:49:10.864213Z",
     "start_time": "2018-02-08T19:49:10.861429Z"
    },
    "collapsed": false
   },
   "outputs": [
    {
     "data": {
      "text/plain": [
       "<a class=\"sister\" href=\"http://example.com/elsie\" id=\"link1\">Elsie</a>"
      ]
     },
     "execution_count": 11,
     "metadata": {},
     "output_type": "execute_result"
    }
   ],
   "source": [
    "soup.find('a', attrs={\"class\": \"sister\"})"
   ]
  },
  {
   "cell_type": "code",
   "execution_count": 12,
   "metadata": {
    "ExecuteTime": {
     "end_time": "2018-02-08T19:49:10.870795Z",
     "start_time": "2018-02-08T19:49:10.868910Z"
    },
    "collapsed": false
   },
   "outputs": [
    {
     "name": "stdout",
     "output_type": "stream",
     "text": [
      "None\n"
     ]
    }
   ],
   "source": [
    "# Devuelve None en caso de no existir\n",
    "print(soup.find('a', attrs={\"class\": \"brother\"}))"
   ]
  },
  {
   "cell_type": "markdown",
   "metadata": {},
   "source": [
    "De esta forma, ya podemos extraer todos los enlaces de un documento en HTML"
   ]
  },
  {
   "cell_type": "code",
   "execution_count": 13,
   "metadata": {
    "ExecuteTime": {
     "end_time": "2018-02-08T19:49:10.881199Z",
     "start_time": "2018-02-08T19:49:10.878629Z"
    },
    "collapsed": false
   },
   "outputs": [
    {
     "name": "stdout",
     "output_type": "stream",
     "text": [
      "http://example.com/elsie\n",
      "http://example.com/lacie\n",
      "http://example.com/tillie\n"
     ]
    }
   ],
   "source": [
    "links = soup.findAll('a')\n",
    "for l in links:\n",
    "    print(l['href'])"
   ]
  },
  {
   "cell_type": "markdown",
   "metadata": {
    "ExecuteTime": {
     "end_time": "2018-02-08T10:25:17.354285Z",
     "start_time": "2018-02-08T10:25:17.351958Z"
    }
   },
   "source": [
    "En realidad, existe una forma aún más interesante de realizar esto y es utilizando la función `select` (o `select_one`, si solo nos queremos quedar con el primero, que recibe como parámetro un selector CSS para decidir con qué elementos me quiero quedar "
   ]
  },
  {
   "cell_type": "code",
   "execution_count": 14,
   "metadata": {
    "ExecuteTime": {
     "end_time": "2018-02-08T19:49:10.892259Z",
     "start_time": "2018-02-08T19:49:10.889505Z"
    },
    "collapsed": false
   },
   "outputs": [
    {
     "name": "stdout",
     "output_type": "stream",
     "text": [
      "Once upon a time there were three little sisters; and their names were\n",
      "Elsie,\n",
      "Lacie and\n",
      "Tillie;\n",
      "and they lived at the bottom of a well.\n",
      "...\n"
     ]
    }
   ],
   "source": [
    "# Ignoremos el párrafo de título\n",
    "stories = soup.select('p.story')\n",
    "for t in stories:\n",
    "    print (t.text)"
   ]
  },
  {
   "cell_type": "code",
   "execution_count": 15,
   "metadata": {
    "ExecuteTime": {
     "end_time": "2018-02-08T19:49:10.909591Z",
     "start_time": "2018-02-08T19:49:10.906783Z"
    },
    "collapsed": false
   },
   "outputs": [
    {
     "name": "stdout",
     "output_type": "stream",
     "text": [
      "link1\n",
      "link2\n",
      "link3\n"
     ]
    }
   ],
   "source": [
    "# Ignoremos el párrafo de título\n",
    "stories = soup.select('p.story > a')\n",
    "for t in stories:\n",
    "    print (t['id'])"
   ]
  },
  {
   "cell_type": "markdown",
   "metadata": {},
   "source": [
    "# BS4 y request\n",
    "\n",
    "Para el objetivo de este taller, lo más interesante es combinar la descarga de una web con el uso de BS4. Para ello, proponemos el uso de la librería `request` de la siguiente manera:"
   ]
  },
  {
   "cell_type": "code",
   "execution_count": 16,
   "metadata": {
    "ExecuteTime": {
     "end_time": "2018-02-08T19:49:11.152212Z",
     "start_time": "2018-02-08T19:49:10.924132Z"
    },
    "collapsed": false
   },
   "outputs": [],
   "source": [
    "from bs4 import BeautifulSoup\n",
    "import requests\n",
    "\n",
    "def procesarPagina(url):\n",
    "    \"\"\"\n",
    "    Carga y  procesa el contenido de una URL usando request\n",
    "    Muestra un mensaje de error en caso de no poder cargar la página\n",
    "    \"\"\"\n",
    "     # Realizamos la petición a la web\n",
    "    req = requests.get(url)\n",
    "\n",
    "    # Comprobamos que la petición nos devuelve un Status Code = 200\n",
    "    statusCode = req.status_code\n",
    "    if statusCode == 200:\n",
    "\n",
    "        # Pasamos el contenido HTML de la web a un objeto BeautifulSoup()\n",
    "        html = BeautifulSoup(req.text,\"lxml\")\n",
    "        \n",
    "        # Procesamos el HTML descargado\n",
    "        return procesaHTML(html,url)        \n",
    "        \n",
    "    else:\n",
    "        print (\"ERROR {}\".format(statusCode))\n",
    "\n",
    "def procesaHTML(html, url=\"\"):\n",
    "    \"\"\"\n",
    "    Procesa el contenido HTML de una página web\n",
    "    html es un objeto BS4\n",
    "    url es la URL de la página contenida en html_doc\n",
    "    \"\"\"\n",
    "    # Decide aquí lo que quieres hacer con el contenido \n",
    "    return"
   ]
  },
  {
   "cell_type": "markdown",
   "metadata": {},
   "source": [
    "## Ejemplo: Books to scrape\n",
    "\n",
    "Vamos a probar cómo hacer scraping con BS4 utilizando el sitio web [Books to scrape](http://books.toscrape.com). Como su nombre indica, es un _sandbox_ donde nos dejan  hacer pruebas de web scraping. Utilizando las herramientas de desarrollador del navegador podemos analizar cuál es la estructura de la web que queremos analizar.\n",
    "\n",
    "Vamos primeramente a entender cómo es la página de un producto para luego ver cómo extraeríamos el catálogo completo.\n",
    "\n",
    "### Organización de cada producto\n",
    "\n",
    "La estructura más importante de un producto es la que aquí aparece:\n",
    "\n",
    "```\n",
    "article.product_page\n",
    "    div.product_main\n",
    "        h1 \n",
    "            Texto = Título\n",
    "        p.price_color\n",
    "            Texto = Precio\n",
    "        p.star-rating\n",
    "            La otra clase representa la valoración (One, Two, Three, Four, Five)\n",
    "    div#product_description\n",
    "        sibling p --> descripción\n",
    "    \n",
    "    table\n",
    "        Cada fila tiene info adicional:\n",
    "        UPC\n",
    "        Product type\n",
    "        Price (excl. tax)\n",
    "        ...\n",
    "        \n",
    "```\n",
    "\n",
    "Por ejemplo, comencemos obteniendo el título del producto"
   ]
  },
  {
   "cell_type": "code",
   "execution_count": 17,
   "metadata": {
    "ExecuteTime": {
     "end_time": "2018-02-08T19:49:12.065995Z",
     "start_time": "2018-02-08T19:49:11.153060Z"
    },
    "collapsed": false
   },
   "outputs": [
    {
     "name": "stdout",
     "output_type": "stream",
     "text": [
      "Título:A Light in the Attic\n"
     ]
    }
   ],
   "source": [
    "def procesaHTML(html, url=\"\"):\n",
    "    titulo = html.select_one(\".product_main h1\").text\n",
    "    print (\"Título:\"+ titulo)\n",
    "\n",
    "procesarPagina(\"http://books.toscrape.com/catalogue/a-light-in-the-attic_1000/index.html\")\n"
   ]
  },
  {
   "cell_type": "markdown",
   "metadata": {},
   "source": [
    "Vamos a ir creando un objeto con toda la información de la página"
   ]
  },
  {
   "cell_type": "code",
   "execution_count": 18,
   "metadata": {
    "ExecuteTime": {
     "end_time": "2018-02-08T19:49:12.179706Z",
     "start_time": "2018-02-08T19:49:12.067055Z"
    },
    "collapsed": false
   },
   "outputs": [
    {
     "data": {
      "text/plain": [
       "{'precio': '51.77', 'titulo': 'A Light in the Attic', 'valoracion': 3}"
      ]
     },
     "execution_count": 18,
     "metadata": {},
     "output_type": "execute_result"
    }
   ],
   "source": [
    "# Nombres de las clases que representan las valoraciones de un producto\n",
    "star = [\"One\", \"Two\", \"Three\", \"Four\", \"Five\"]\n",
    "\n",
    "def starToInt (rating):\n",
    "    \"\"\"\n",
    "    Convierte un rating en forma textual a un rating numérico\n",
    "    Devuelve el número equivalente, o 0, si el rating no es válido\n",
    "    \"\"\"\n",
    "    try:\n",
    "        return star.index(rating) + 1\n",
    "    except:\n",
    "        return 0\n",
    "\n",
    "def procesaHTML(html, url=\"\"):\n",
    "    libro = {}\n",
    "    \n",
    "    prodMain = html.select_one(\".product_main\")\n",
    "\n",
    "    # Título\n",
    "    titulo = prodMain.select_one(\"h1\").text\n",
    "    libro['titulo'] = titulo\n",
    "\n",
    "    # Precio (eliminamos los caracteres anteriores que representan las libras)\n",
    "    precio = prodMain.select_one(\"p.price_color\").text\n",
    "    libro['precio'] = precio[2:]\n",
    "    \n",
    "    # Valoración\n",
    "    # 1. Obtenemos las clases\n",
    "    ratingClasses = prodMain.select_one(\"p.star-rating\")[\"class\"]\n",
    "    \n",
    "    # 2. Nos quedamos con la intersección\n",
    "    ratingText = list(set(ratingClasses).intersection(set(star)))\n",
    "    \n",
    "    # 3. Lo convertimos a un valor numérico\n",
    "    if (len(ratingText)==1):\n",
    "        libro['valoracion'] = starToInt(ratingText[0])\n",
    "    else:\n",
    "        libro['valoracion'] = 0\n",
    "        \n",
    "\n",
    "    return libro\n",
    "\n",
    "    \n",
    "procesarPagina(\"http://books.toscrape.com/catalogue/a-light-in-the-attic_1000/index.html\")\n"
   ]
  },
  {
   "cell_type": "markdown",
   "metadata": {
    "ExecuteTime": {
     "end_time": "2018-02-08T08:41:21.970237Z",
     "start_time": "2018-02-08T08:41:21.954108Z"
    },
    "collapsed": false
   },
   "source": [
    "Procesar la descripción nos hace buscar el hermano de un elemento:\n"
   ]
  },
  {
   "cell_type": "code",
   "execution_count": 19,
   "metadata": {
    "ExecuteTime": {
     "end_time": "2018-02-08T19:49:12.294867Z",
     "start_time": "2018-02-08T19:49:12.180696Z"
    },
    "collapsed": false
   },
   "outputs": [
    {
     "data": {
      "text/plain": [
       "{'descripcion': \"It's hard to imagine a world without A Light in the Attic. This now-classic collection of poetry and drawings from Shel Silverstein celebrates its 20th anniversary with this special edition. Silverstein's humorous and creative verse can amuse the dowdiest of readers. Lemon-faced adults and fidgety kids sit still and read these rhythmic words and laugh and smile and love th It's hard to imagine a world without A Light in the Attic. This now-classic collection of poetry and drawings from Shel Silverstein celebrates its 20th anniversary with this special edition. Silverstein's humorous and creative verse can amuse the dowdiest of readers. Lemon-faced adults and fidgety kids sit still and read these rhythmic words and laugh and smile and love that Silverstein. Need proof of his genius? RockabyeRockabye baby, in the treetopDon't you know a treetopIs no safe place to rock?And who put you up there,And your cradle, too?Baby, I think someone down here'sGot it in for you. Shel, you never sounded so good. ...more\",\n",
       " 'precio': '51.77',\n",
       " 'titulo': 'A Light in the Attic',\n",
       " 'valoracion': 3}"
      ]
     },
     "execution_count": 19,
     "metadata": {},
     "output_type": "execute_result"
    }
   ],
   "source": [
    "def procesaHTML(html, url=\"\"):\n",
    "    libro = {}\n",
    "    \n",
    "    prodMain = html.select_one(\".product_main\")\n",
    "\n",
    "    # Título\n",
    "    titulo = prodMain.select_one(\"h1\").text\n",
    "    libro['titulo'] = titulo\n",
    "\n",
    "    # Precio (eliminamos los caracteres anteriores que representan las libras)\n",
    "    precio = prodMain.select_one(\"p.price_color\").text\n",
    "    libro['precio'] = precio[2:]\n",
    "    \n",
    "    # Valoración\n",
    "    # 1. Obtenemos las clases\n",
    "    ratingClasses = prodMain.select_one(\"p.star-rating\")[\"class\"]\n",
    "    \n",
    "    # 2. Nos quedamos con la intersección\n",
    "    ratingText = list(set(ratingClasses).intersection(set(star)))\n",
    "    \n",
    "    # 3. Lo convertimos a un valor numérico\n",
    "    if (len(ratingText)==1):\n",
    "        libro['valoracion'] = starToInt(ratingText[0])\n",
    "    else:\n",
    "        libro['valoracion'] = 0\n",
    "        \n",
    "    # Descripción del producto\n",
    "    # 1. Buscamos el elemento que hace de título\n",
    "    prodDescription = html.find(id=\"product_description\")\n",
    "    \n",
    "    # 2. Buscamos el siguiente hermano con etiqueta p\n",
    "    if prodDescription is None:\n",
    "        libro['descripcion'] = \"\"\n",
    "    else:\n",
    "        libro['descripcion'] = prodDescription.find_next_sibling('p').text\n",
    "    \n",
    "    return libro\n",
    "\n",
    "    \n",
    "procesarPagina(\"http://books.toscrape.com/catalogue/a-light-in-the-attic_1000/index.html\")"
   ]
  },
  {
   "cell_type": "markdown",
   "metadata": {
    "collapsed": true
   },
   "source": [
    "### Organización del catálogo\n",
    "\n",
    "Una vez que sabemos cómo procesar un producto vamos a intentar obtener el catálogo completo. La estructura de cada uno de los productos de la página de un catálogo es esta:\n",
    "\n",
    "```\n",
    "article.product_pod\n",
    "    img[src] = URL imagen\n",
    "    h3\n",
    "        Texto = Título del libro\n",
    "        a[href] = enlace\n",
    "``` \n",
    "\n",
    "Se muestran 20 por página y hay un botón `Next` para avanzar. Sin embargo, si nos fijamos un poco veremos que cada vez que pulsamos en el botón nos lleva a una nueva página con una URL del tipo `http://books.toscrape.com/catalogue/page-X.html`. Además, podemos ver que lanza un error 404 si llegamos al final del catálogo.\n",
    "\n",
    "De acuerdo a esto, vamos a ver cómo obtener los enlaces de cada uno de los productos y cómo crear una lista de libros:\n"
   ]
  },
  {
   "cell_type": "code",
   "execution_count": 20,
   "metadata": {
    "ExecuteTime": {
     "end_time": "2018-02-08T19:49:12.425730Z",
     "start_time": "2018-02-08T19:49:12.295810Z"
    },
    "collapsed": false
   },
   "outputs": [
    {
     "name": "stdout",
     "output_type": "stream",
     "text": [
      "a-light-in-the-attic_1000/index.html\n",
      "tipping-the-velvet_999/index.html\n",
      "soumission_998/index.html\n",
      "sharp-objects_997/index.html\n",
      "sapiens-a-brief-history-of-humankind_996/index.html\n",
      "the-requiem-red_995/index.html\n",
      "the-dirty-little-secrets-of-getting-your-dream-job_994/index.html\n",
      "the-coming-woman-a-novel-based-on-the-life-of-the-infamous-feminist-victoria-woodhull_993/index.html\n",
      "the-boys-in-the-boat-nine-americans-and-their-epic-quest-for-gold-at-the-1936-berlin-olympics_992/index.html\n",
      "the-black-maria_991/index.html\n",
      "starving-hearts-triangular-trade-trilogy-1_990/index.html\n",
      "shakespeares-sonnets_989/index.html\n",
      "set-me-free_988/index.html\n",
      "scott-pilgrims-precious-little-life-scott-pilgrim-1_987/index.html\n",
      "rip-it-up-and-start-again_986/index.html\n",
      "our-band-could-be-your-life-scenes-from-the-american-indie-underground-1981-1991_985/index.html\n",
      "olio_984/index.html\n",
      "mesaerion-the-best-science-fiction-stories-1800-1849_983/index.html\n",
      "libertarianism-for-beginners_982/index.html\n",
      "its-only-the-himalayas_981/index.html\n"
     ]
    }
   ],
   "source": [
    "def procesaPaginaCatalogo(url):\n",
    "     # Realizamos la petición a la web\n",
    "    req = requests.get(url)\n",
    "\n",
    "    # Comprobamos que la petición nos devuelve un Status Code = 200\n",
    "    statusCode = req.status_code\n",
    "    if statusCode == 200:\n",
    "\n",
    "        # Pasamos el contenido HTML de la web a un objeto BeautifulSoup()\n",
    "        html = BeautifulSoup(req.text,\"lxml\")\n",
    "        \n",
    "        # Procesamos el HTML descargado\n",
    "        products = html.select('article.product_pod')\n",
    "        for prod in products:\n",
    "            enlace = prod.select_one('h3 > a')\n",
    "            print(enlace['href'])\n",
    "            \n",
    "procesaPaginaCatalogo(\"http://books.toscrape.com/catalogue/page-1.html\")\n",
    "    "
   ]
  },
  {
   "cell_type": "markdown",
   "metadata": {},
   "source": [
    "Los enlaces son relativos por lo que necesitamos definir la ruta completa. Si desde el navegador accedemos a uno de los productos vemos que el prefijo que usa es `http://books.toscrape.com/catalogue/`. Lo añadimos y procesamos cada enlace. Luego vamos componiendo una lista de productos con todos ellos."
   ]
  },
  {
   "cell_type": "code",
   "execution_count": 21,
   "metadata": {
    "ExecuteTime": {
     "end_time": "2018-02-08T19:49:14.597337Z",
     "start_time": "2018-02-08T19:49:12.426653Z"
    },
    "collapsed": false
   },
   "outputs": [
    {
     "data": {
      "text/plain": [
       "20"
      ]
     },
     "execution_count": 21,
     "metadata": {},
     "output_type": "execute_result"
    }
   ],
   "source": [
    "def procesaPaginaCatalogo(url, prefix, productList):\n",
    "     # Realizamos la petición a la web\n",
    "    req = requests.get(url)\n",
    "\n",
    "    # Comprobamos que la petición nos devuelve un Status Code = 200\n",
    "    statusCode = req.status_code\n",
    "    if statusCode == 200:\n",
    "\n",
    "        # Pasamos el contenido HTML de la web a un objeto BeautifulSoup()\n",
    "        html = BeautifulSoup(req.text,\"lxml\")\n",
    "        \n",
    "        # Procesamos el HTML descargado\n",
    "        products = html.select('article.product_pod')\n",
    "        for prod in products:\n",
    "            enlace = prod.select_one('h3 > a')\n",
    "            productList.append(procesarPagina(prefix+enlace['href']))\n",
    "            \n",
    "listaProductos = []\n",
    "procesaPaginaCatalogo(\"http://books.toscrape.com/catalogue/page-1.html\", \"http://books.toscrape.com/catalogue/\", listaProductos)\n",
    "len(listaProductos)"
   ]
  },
  {
   "cell_type": "markdown",
   "metadata": {},
   "source": [
    "Solo queda iterar por las páginas de los catálogos y parar si tenemos un error 404"
   ]
  },
  {
   "cell_type": "code",
   "execution_count": 22,
   "metadata": {
    "ExecuteTime": {
     "end_time": "2018-02-08T19:49:21.267628Z",
     "start_time": "2018-02-08T19:49:14.598346Z"
    },
    "collapsed": false
   },
   "outputs": [
    {
     "data": {
      "text/plain": [
       "60"
      ]
     },
     "execution_count": 22,
     "metadata": {},
     "output_type": "execute_result"
    }
   ],
   "source": [
    "def procesaPaginaCatalogo(url, prefix, productList):\n",
    "    \"\"\"\n",
    "    Devuelve True si hemos llegado al final del catálogo, False en otro caso\n",
    "    \"\"\"\n",
    "     # Realizamos la petición a la web\n",
    "    req = requests.get(url)\n",
    "\n",
    "    # Comprobamos que la petición nos devuelve un Status Code = 200\n",
    "    statusCode = req.status_code\n",
    "    if statusCode == 200:\n",
    "\n",
    "        # Pasamos el contenido HTML de la web a un objeto BeautifulSoup()\n",
    "        html = BeautifulSoup(req.text,\"lxml\")\n",
    "        \n",
    "        # Procesamos el HTML descargado\n",
    "        products = html.select('article.product_pod')\n",
    "        for prod in products:\n",
    "            enlace = prod.select_one('h3 > a')\n",
    "            producto = procesarPagina(prefix+enlace['href'])\n",
    "            producto['enlace'] = prefix+enlace['href']\n",
    "            productList.append(producto)\n",
    "        return False\n",
    "    \n",
    "    if statusCode == 404:\n",
    "        return True\n",
    "        \n",
    "listaProductos = []\n",
    "# Probamos solo con las dos últimas páginas\n",
    "i=48\n",
    "while ( not procesaPaginaCatalogo(\"http://books.toscrape.com/catalogue/page-{}.html\".format(i), \"http://books.toscrape.com/catalogue/\", listaProductos)):\n",
    "    i=i+1\n",
    "\n",
    "len(listaProductos)"
   ]
  },
  {
   "cell_type": "markdown",
   "metadata": {},
   "source": [
    "Finalmente cargaremos todos los datos en un dataframe de pandas para procesarlo, extraer información y guardarlo a un CSV\n"
   ]
  },
  {
   "cell_type": "code",
   "execution_count": 23,
   "metadata": {
    "ExecuteTime": {
     "end_time": "2018-02-08T19:49:21.516214Z",
     "start_time": "2018-02-08T19:49:21.268787Z"
    },
    "collapsed": false
   },
   "outputs": [],
   "source": [
    "import pandas as pd\n",
    "df = pd.DataFrame(listaProductos)\n",
    "df.to_csv(\"listaProductos.csv\", sep=\";\", index=False)"
   ]
  },
  {
   "cell_type": "markdown",
   "metadata": {},
   "source": [
    "## Extra: Municipios y habitantes de Madrid\n",
    "\n",
    "Para terminar y a modo de ejemplo extra, extraeremos los municipios y número de habitantes de la Comunidad de Madrid de la Wikipedia"
   ]
  },
  {
   "cell_type": "code",
   "execution_count": 24,
   "metadata": {
    "ExecuteTime": {
     "end_time": "2018-02-08T19:49:21.913431Z",
     "start_time": "2018-02-08T19:49:21.517249Z"
    },
    "collapsed": false
   },
   "outputs": [
    {
     "data": {
      "text/html": [
       "<div>\n",
       "<style scoped>\n",
       "    .dataframe tbody tr th:only-of-type {\n",
       "        vertical-align: middle;\n",
       "    }\n",
       "\n",
       "    .dataframe tbody tr th {\n",
       "        vertical-align: top;\n",
       "    }\n",
       "\n",
       "    .dataframe thead th {\n",
       "        text-align: right;\n",
       "    }\n",
       "</style>\n",
       "<table border=\"1\" class=\"dataframe\">\n",
       "  <thead>\n",
       "    <tr style=\"text-align: right;\">\n",
       "      <th></th>\n",
       "      <th>Nombre</th>\n",
       "      <th>Habitantes</th>\n",
       "    </tr>\n",
       "  </thead>\n",
       "  <tbody>\n",
       "    <tr>\n",
       "      <th>0</th>\n",
       "      <td>La Acebeda</td>\n",
       "      <td>66</td>\n",
       "    </tr>\n",
       "    <tr>\n",
       "      <th>1</th>\n",
       "      <td>Ajalvir</td>\n",
       "      <td>4455</td>\n",
       "    </tr>\n",
       "    <tr>\n",
       "      <th>2</th>\n",
       "      <td>Alameda del Valle</td>\n",
       "      <td>199</td>\n",
       "    </tr>\n",
       "    <tr>\n",
       "      <th>3</th>\n",
       "      <td>El Álamo</td>\n",
       "      <td>9149</td>\n",
       "    </tr>\n",
       "    <tr>\n",
       "      <th>4</th>\n",
       "      <td>Alcalá de Henares</td>\n",
       "      <td>194310</td>\n",
       "    </tr>\n",
       "    <tr>\n",
       "      <th>5</th>\n",
       "      <td>Alcobendas</td>\n",
       "      <td>114864</td>\n",
       "    </tr>\n",
       "    <tr>\n",
       "      <th>6</th>\n",
       "      <td>Alcorcón</td>\n",
       "      <td>168141</td>\n",
       "    </tr>\n",
       "    <tr>\n",
       "      <th>7</th>\n",
       "      <td>Aldea del Fresno</td>\n",
       "      <td>2616</td>\n",
       "    </tr>\n",
       "    <tr>\n",
       "      <th>8</th>\n",
       "      <td>Algete</td>\n",
       "      <td>20419</td>\n",
       "    </tr>\n",
       "    <tr>\n",
       "      <th>9</th>\n",
       "      <td>Alpedrete</td>\n",
       "      <td>14240</td>\n",
       "    </tr>\n",
       "    <tr>\n",
       "      <th>10</th>\n",
       "      <td>Ambite</td>\n",
       "      <td>677</td>\n",
       "    </tr>\n",
       "    <tr>\n",
       "      <th>11</th>\n",
       "      <td>Anchuelo</td>\n",
       "      <td>1238</td>\n",
       "    </tr>\n",
       "    <tr>\n",
       "      <th>12</th>\n",
       "      <td>Aranjuez</td>\n",
       "      <td>58213</td>\n",
       "    </tr>\n",
       "    <tr>\n",
       "      <th>13</th>\n",
       "      <td>Arganda del Rey</td>\n",
       "      <td>53821</td>\n",
       "    </tr>\n",
       "    <tr>\n",
       "      <th>14</th>\n",
       "      <td>Arroyomolinos</td>\n",
       "      <td>29128</td>\n",
       "    </tr>\n",
       "    <tr>\n",
       "      <th>15</th>\n",
       "      <td>El Atazar</td>\n",
       "      <td>97</td>\n",
       "    </tr>\n",
       "    <tr>\n",
       "      <th>16</th>\n",
       "      <td>Batres</td>\n",
       "      <td>1610</td>\n",
       "    </tr>\n",
       "    <tr>\n",
       "      <th>17</th>\n",
       "      <td>Becerril de la Sierra</td>\n",
       "      <td>5457</td>\n",
       "    </tr>\n",
       "    <tr>\n",
       "      <th>18</th>\n",
       "      <td>Belmonte de Tajo</td>\n",
       "      <td>1628</td>\n",
       "    </tr>\n",
       "    <tr>\n",
       "      <th>19</th>\n",
       "      <td>El Berrueco</td>\n",
       "      <td>743</td>\n",
       "    </tr>\n",
       "    <tr>\n",
       "      <th>20</th>\n",
       "      <td>Berzosa del Lozoya</td>\n",
       "      <td>203</td>\n",
       "    </tr>\n",
       "    <tr>\n",
       "      <th>21</th>\n",
       "      <td>Boadilla del Monte</td>\n",
       "      <td>51463</td>\n",
       "    </tr>\n",
       "    <tr>\n",
       "      <th>22</th>\n",
       "      <td>El Boalo</td>\n",
       "      <td>7358</td>\n",
       "    </tr>\n",
       "    <tr>\n",
       "      <th>23</th>\n",
       "      <td>Braojos de la Sierra</td>\n",
       "      <td>208</td>\n",
       "    </tr>\n",
       "    <tr>\n",
       "      <th>24</th>\n",
       "      <td>Brea de Tajo</td>\n",
       "      <td>539</td>\n",
       "    </tr>\n",
       "    <tr>\n",
       "      <th>25</th>\n",
       "      <td>Brunete</td>\n",
       "      <td>10373</td>\n",
       "    </tr>\n",
       "    <tr>\n",
       "      <th>26</th>\n",
       "      <td>Buitrago del Lozoya</td>\n",
       "      <td>1854</td>\n",
       "    </tr>\n",
       "    <tr>\n",
       "      <th>27</th>\n",
       "      <td>Bustarviejo</td>\n",
       "      <td>2399</td>\n",
       "    </tr>\n",
       "    <tr>\n",
       "      <th>28</th>\n",
       "      <td>Cabanillas de la Sierra</td>\n",
       "      <td>712</td>\n",
       "    </tr>\n",
       "    <tr>\n",
       "      <th>29</th>\n",
       "      <td>La Cabrera</td>\n",
       "      <td>2570</td>\n",
       "    </tr>\n",
       "    <tr>\n",
       "      <th>...</th>\n",
       "      <td>...</td>\n",
       "      <td>...</td>\n",
       "    </tr>\n",
       "    <tr>\n",
       "      <th>149</th>\n",
       "      <td>Tres Cantos</td>\n",
       "      <td>46046</td>\n",
       "    </tr>\n",
       "    <tr>\n",
       "      <th>150</th>\n",
       "      <td>Valdaracete</td>\n",
       "      <td>643</td>\n",
       "    </tr>\n",
       "    <tr>\n",
       "      <th>151</th>\n",
       "      <td>Valdeavero</td>\n",
       "      <td>1450</td>\n",
       "    </tr>\n",
       "    <tr>\n",
       "      <th>152</th>\n",
       "      <td>Valdelaguna</td>\n",
       "      <td>867</td>\n",
       "    </tr>\n",
       "    <tr>\n",
       "      <th>153</th>\n",
       "      <td>Valdemanco</td>\n",
       "      <td>916</td>\n",
       "    </tr>\n",
       "    <tr>\n",
       "      <th>154</th>\n",
       "      <td>Valdemaqueda</td>\n",
       "      <td>768</td>\n",
       "    </tr>\n",
       "    <tr>\n",
       "      <th>155</th>\n",
       "      <td>Valdemorillo</td>\n",
       "      <td>12300</td>\n",
       "    </tr>\n",
       "    <tr>\n",
       "      <th>156</th>\n",
       "      <td>Valdemoro</td>\n",
       "      <td>73976</td>\n",
       "    </tr>\n",
       "    <tr>\n",
       "      <th>157</th>\n",
       "      <td>Valdeolmos-Alalpardo</td>\n",
       "      <td>3906</td>\n",
       "    </tr>\n",
       "    <tr>\n",
       "      <th>158</th>\n",
       "      <td>Valdepiélagos</td>\n",
       "      <td>587</td>\n",
       "    </tr>\n",
       "    <tr>\n",
       "      <th>159</th>\n",
       "      <td>Valdetorres de Jarama</td>\n",
       "      <td>4316</td>\n",
       "    </tr>\n",
       "    <tr>\n",
       "      <th>160</th>\n",
       "      <td>Valdilecha</td>\n",
       "      <td>2755</td>\n",
       "    </tr>\n",
       "    <tr>\n",
       "      <th>161</th>\n",
       "      <td>Valverde de Alcalá</td>\n",
       "      <td>427</td>\n",
       "    </tr>\n",
       "    <tr>\n",
       "      <th>162</th>\n",
       "      <td>Velilla de San Antonio</td>\n",
       "      <td>12111</td>\n",
       "    </tr>\n",
       "    <tr>\n",
       "      <th>163</th>\n",
       "      <td>El Vellón</td>\n",
       "      <td>1834</td>\n",
       "    </tr>\n",
       "    <tr>\n",
       "      <th>164</th>\n",
       "      <td>Venturada</td>\n",
       "      <td>2032</td>\n",
       "    </tr>\n",
       "    <tr>\n",
       "      <th>165</th>\n",
       "      <td>Villa del Prado</td>\n",
       "      <td>6337</td>\n",
       "    </tr>\n",
       "    <tr>\n",
       "      <th>166</th>\n",
       "      <td>Villaconejos</td>\n",
       "      <td>3350</td>\n",
       "    </tr>\n",
       "    <tr>\n",
       "      <th>167</th>\n",
       "      <td>Villalbilla</td>\n",
       "      <td>13038</td>\n",
       "    </tr>\n",
       "    <tr>\n",
       "      <th>168</th>\n",
       "      <td>Villamanrique de Tajo</td>\n",
       "      <td>694</td>\n",
       "    </tr>\n",
       "    <tr>\n",
       "      <th>169</th>\n",
       "      <td>Villamanta</td>\n",
       "      <td>2491</td>\n",
       "    </tr>\n",
       "    <tr>\n",
       "      <th>170</th>\n",
       "      <td>Villamantilla</td>\n",
       "      <td>1382</td>\n",
       "    </tr>\n",
       "    <tr>\n",
       "      <th>171</th>\n",
       "      <td>Villanueva de la Cañada</td>\n",
       "      <td>20320</td>\n",
       "    </tr>\n",
       "    <tr>\n",
       "      <th>172</th>\n",
       "      <td>Villanueva de Perales</td>\n",
       "      <td>1519</td>\n",
       "    </tr>\n",
       "    <tr>\n",
       "      <th>173</th>\n",
       "      <td>Villanueva del Pardillo</td>\n",
       "      <td>17025</td>\n",
       "    </tr>\n",
       "    <tr>\n",
       "      <th>174</th>\n",
       "      <td>Villar del Olmo</td>\n",
       "      <td>1997</td>\n",
       "    </tr>\n",
       "    <tr>\n",
       "      <th>175</th>\n",
       "      <td>Villarejo de Salvanés</td>\n",
       "      <td>7245</td>\n",
       "    </tr>\n",
       "    <tr>\n",
       "      <th>176</th>\n",
       "      <td>Villaviciosa de Odón</td>\n",
       "      <td>27504</td>\n",
       "    </tr>\n",
       "    <tr>\n",
       "      <th>177</th>\n",
       "      <td>Villavieja del Lozoya</td>\n",
       "      <td>267</td>\n",
       "    </tr>\n",
       "    <tr>\n",
       "      <th>178</th>\n",
       "      <td>Zarzalejo</td>\n",
       "      <td>1596</td>\n",
       "    </tr>\n",
       "  </tbody>\n",
       "</table>\n",
       "<p>179 rows × 2 columns</p>\n",
       "</div>"
      ],
      "text/plain": [
       "                      Nombre Habitantes\n",
       "0                 La Acebeda         66\n",
       "1                    Ajalvir       4455\n",
       "2          Alameda del Valle        199\n",
       "3                   El Álamo       9149\n",
       "4          Alcalá de Henares     194310\n",
       "5                 Alcobendas     114864\n",
       "6                   Alcorcón     168141\n",
       "7           Aldea del Fresno       2616\n",
       "8                     Algete      20419\n",
       "9                  Alpedrete      14240\n",
       "10                    Ambite        677\n",
       "11                  Anchuelo       1238\n",
       "12                  Aranjuez      58213\n",
       "13           Arganda del Rey      53821\n",
       "14             Arroyomolinos      29128\n",
       "15                 El Atazar         97\n",
       "16                    Batres       1610\n",
       "17     Becerril de la Sierra       5457\n",
       "18          Belmonte de Tajo       1628\n",
       "19               El Berrueco        743\n",
       "20        Berzosa del Lozoya        203\n",
       "21        Boadilla del Monte      51463\n",
       "22                  El Boalo       7358\n",
       "23      Braojos de la Sierra        208\n",
       "24              Brea de Tajo        539\n",
       "25                   Brunete      10373\n",
       "26       Buitrago del Lozoya       1854\n",
       "27               Bustarviejo       2399\n",
       "28   Cabanillas de la Sierra        712\n",
       "29                La Cabrera       2570\n",
       "..                       ...        ...\n",
       "149              Tres Cantos      46046\n",
       "150              Valdaracete        643\n",
       "151               Valdeavero       1450\n",
       "152              Valdelaguna        867\n",
       "153               Valdemanco        916\n",
       "154             Valdemaqueda        768\n",
       "155             Valdemorillo      12300\n",
       "156                Valdemoro      73976\n",
       "157     Valdeolmos-Alalpardo       3906\n",
       "158            Valdepiélagos        587\n",
       "159    Valdetorres de Jarama       4316\n",
       "160               Valdilecha       2755\n",
       "161       Valverde de Alcalá        427\n",
       "162   Velilla de San Antonio      12111\n",
       "163                El Vellón       1834\n",
       "164                Venturada       2032\n",
       "165          Villa del Prado       6337\n",
       "166             Villaconejos       3350\n",
       "167              Villalbilla      13038\n",
       "168    Villamanrique de Tajo        694\n",
       "169               Villamanta       2491\n",
       "170            Villamantilla       1382\n",
       "171  Villanueva de la Cañada      20320\n",
       "172    Villanueva de Perales       1519\n",
       "173  Villanueva del Pardillo      17025\n",
       "174          Villar del Olmo       1997\n",
       "175    Villarejo de Salvanés       7245\n",
       "176     Villaviciosa de Odón      27504\n",
       "177    Villavieja del Lozoya        267\n",
       "178                Zarzalejo       1596\n",
       "\n",
       "[179 rows x 2 columns]"
      ]
     },
     "execution_count": 24,
     "metadata": {},
     "output_type": "execute_result"
    }
   ],
   "source": [
    "from bs4 import BeautifulSoup\n",
    "import requests\n",
    "import pandas as pd\n",
    "\n",
    "url = \"https://es.wikipedia.org/wiki/Anexo:Municipios_de_la_Comunidad_de_Madrid\"\n",
    "\n",
    "# Realizamos la petición a la web\n",
    "req = requests.get(url)\n",
    "\n",
    "# Comprobamos que la petición nos devuelve un Status Code = 200\n",
    "statusCode = req.status_code\n",
    "if statusCode == 200:\n",
    "\n",
    "    # Pasamos el contenido HTML de la web a un objeto BeautifulSoup()\n",
    "    html = BeautifulSoup(req.text, 'html.parser')\n",
    "    \n",
    "\n",
    "    # Obtenemos cada una de las filas de la tabla\n",
    "    content = []\n",
    "    rows = html.find_all('tr')\n",
    "    for r in rows:\n",
    "        celdas=r.find_all('td')\n",
    "        # Nos quedamos con el contenido\n",
    "        if len(celdas)>0:\n",
    "            # En lugar de un separador de miles, se ha usado un caracter parecido a un espacio en blanco\n",
    "            # por lo que en la celda de habitantes hay que eliminar todos los caracteres que no sean números\n",
    "            content.append([celdas[0].string, ''.join(c for c in celdas[1].string if c.isdigit())])\n",
    "        \n",
    "\n",
    "else:\n",
    "    print (statusCode)\n",
    "\n",
    "df = pd.DataFrame(content, columns= ['Nombre', 'Habitantes'])\n",
    "df"
   ]
  },
  {
   "cell_type": "code",
   "execution_count": null,
   "metadata": {
    "collapsed": true
   },
   "outputs": [],
   "source": []
  }
 ],
 "metadata": {
  "kernelspec": {
   "display_name": "Python 3",
   "language": "python",
   "name": "python3"
  },
  "language_info": {
   "codemirror_mode": {
    "name": "ipython",
    "version": 3
   },
   "file_extension": ".py",
   "mimetype": "text/x-python",
   "name": "python",
   "nbconvert_exporter": "python",
   "pygments_lexer": "ipython3",
   "version": "3.5.2"
  },
  "toc": {
   "colors": {
    "hover_highlight": "#DAA520",
    "navigate_num": "#000000",
    "navigate_text": "#333333",
    "running_highlight": "#FF0000",
    "selected_highlight": "#FFD700",
    "sidebar_border": "#EEEEEE",
    "wrapper_background": "#FFFFFF"
   },
   "moveMenuLeft": true,
   "nav_menu": {
    "height": "68px",
    "width": "252px"
   },
   "navigate_menu": true,
   "number_sections": true,
   "sideBar": true,
   "threshold": 4,
   "toc_cell": false,
   "toc_section_display": "block",
   "toc_window_display": false,
   "widenNotebook": false
  },
  "varInspector": {
   "cols": {
    "lenName": 16,
    "lenType": 16,
    "lenVar": 40
   },
   "kernels_config": {
    "python": {
     "delete_cmd_postfix": "",
     "delete_cmd_prefix": "del ",
     "library": "var_list.py",
     "varRefreshCmd": "print(var_dic_list())"
    },
    "r": {
     "delete_cmd_postfix": ") ",
     "delete_cmd_prefix": "rm(",
     "library": "var_list.r",
     "varRefreshCmd": "cat(var_dic_list()) "
    }
   },
   "types_to_exclude": [
    "module",
    "function",
    "builtin_function_or_method",
    "instance",
    "_Feature"
   ],
   "window_display": false
  }
 },
 "nbformat": 4,
 "nbformat_minor": 0
}
