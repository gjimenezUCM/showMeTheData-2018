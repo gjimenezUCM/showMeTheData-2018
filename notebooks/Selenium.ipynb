{
 "cells": [
  {
   "cell_type": "markdown",
   "metadata": {},
   "source": [
    "# Web scraping con Selenium\n",
    "\n",
    "Hay ocasiones en las que la descarga de la página/sitio web y su posterior procesamiento con BeautifulSoup no es suficiente. Esto puede deberse a que el sitio del que queremos extraer los datos es una SPA (_Single Page Application_), está protegido por un login (mucho cuidado con los Términos de Uso) o a que necesitamos, por ejemplo, interactuar con el sitio, ya sea rellenando formularios o pulsando en algún enlace.\n",
    "\n",
    "A modo de ejemplo vamos a buscar cuántas recetas de comida española hay en el sitio web Yummly. Se puede acceder a estas recetas a través de esta URL:\n",
    "\n",
    "<http://www.yummly.com/recipes?q=&allowedCuisine=cuisine^cuisine-spanish&noUserSettings=true>"
   ]
  },
  {
   "cell_type": "code",
   "execution_count": 1,
   "metadata": {
    "ExecuteTime": {
     "end_time": "2018-02-10T12:59:38.690224Z",
     "start_time": "2018-02-10T12:59:35.872216Z"
    },
    "collapsed": false
   },
   "outputs": [
    {
     "name": "stdout",
     "output_type": "stream",
     "text": [
      "Número de recetas: 36\n"
     ]
    }
   ],
   "source": [
    "from bs4 import BeautifulSoup\n",
    "import requests\n",
    "\n",
    "url = \"http://www.yummly.com/recipes?q=&allowedCuisine=cuisine^cuisine-spanish&noUserSettings=true\"\n",
    "\n",
    "# Realizamos la petición a la web\n",
    "req = requests.get(url)\n",
    "\n",
    "# Comprobamos que la petición nos devuelve un Status Code = 200\n",
    "statusCode = req.status_code\n",
    "if statusCode == 200:\n",
    "\n",
    "    # Pasamos el contenido HTML de la web a un objeto BeautifulSoup()\n",
    "    html = BeautifulSoup(req.text, \"lxml\")\n",
    "    recipes = html.select(\".recipe-card\")\n",
    "    print (\"Número de recetas: {}\".format(len(recipes)))\n",
    "    \n",
    "else:\n",
    "    print (statusCode)\n"
   ]
  },
  {
   "cell_type": "markdown",
   "metadata": {},
   "source": [
    "Como podemos ver, solo se han recuperado 36 recetas. Si accedemos a la página entonces veremos que al hacer scroll el número de recetas aumenta. \n",
    "\n",
    "Para este tipo de problemas es necesario utilizar una alternativa a Beautiful Soup que nos permita interactuar con la página web. Aunque hay muchas y muy variadas alternativas aquí vamos a utilizar [Selenium](http://www.seleniumhq.org/docs/). Esta librería sirve para la automatización de tareas que hacen uso de un navegador. En particular, se suele utilizar para hacer pruebas sobre interfaces web, aunque nosotros vamos a utilizarlo interactuar y extraer información de algunos sitios web. Recomendamos revisar [la documentación de Selenium para Python](http://selenium-python.readthedocs.io/) para sacar el máximo partido a esta librería.\n",
    "\n",
    "## Instalación\n",
    "\n",
    "Para poder utilizar Selenium es necesario:\n",
    "\n",
    "1. Instalar la librería Selenium. Podemos instalarla desde el propio notebook con los gestores de paquetes pip (python) o conda (Anaconda).\n",
    "2. Descargar el/los drivers para controlar un nevagador. Durante este taller usaremos el driver de Chrome, aunque podremos utilizar otros:\n",
    "\n",
    "    + Chrome: <https://sites.google.com/a/chromium.org/chromedriver/downloads>\n",
    "    + Edge: <https://developer.microsoft.com/en-us/microsoft-edge/tools/webdriver/>\n",
    "    + Firefox: <https://github.com/mozilla/geckodriver/releases>\n",
    "    + Safari: <https://webkit.org/blog/6900/webdriver-support-in-safari-10/>\n",
    "\n"
   ]
  },
  {
   "cell_type": "code",
   "execution_count": 3,
   "metadata": {
    "ExecuteTime": {
     "end_time": "2018-02-10T08:59:23.395180Z",
     "start_time": "2018-02-10T08:59:23.393136Z"
    },
    "collapsed": true
   },
   "outputs": [],
   "source": [
    "# Descomenta y ejecuta una de las dos alternativas (o ejecútalos desde una consola de comandos):\n",
    "# 1. Instalar desde Anaconda\n",
    "#!conda install -c conda-forge selenium\n",
    "# 2. Instalar con pip\n",
    "#!pip install -U selenium"
   ]
  },
  {
   "cell_type": "markdown",
   "metadata": {},
   "source": [
    "## Ejecución básica\n",
    "\n",
    "La filosofía de Selenium es diferente ya que, en este caso, lo que vamos a hacer es programar la navegación automática por un sitio web. Para ello, Selenium lanza un navegador que controlaremos desde Python.\n",
    "\n",
    "Para lanzar el navegador:\n"
   ]
  },
  {
   "cell_type": "code",
   "execution_count": 4,
   "metadata": {
    "ExecuteTime": {
     "end_time": "2018-02-10T09:16:21.489104Z",
     "start_time": "2018-02-10T09:16:15.187059Z"
    },
    "collapsed": true
   },
   "outputs": [],
   "source": [
    "from selenium import webdriver\n",
    "\n",
    "url = \"http://www.yummly.com/recipes?q=&allowedCuisine=cuisine^cuisine-spanish&noUserSettings=true\"\n",
    "driver = webdriver.Chrome('../seleniumDrivers/chromedriver')  # Optional argument, if not specified will search path.\n",
    "# Si usamos Firefox:\n",
    "# driver = webdriver.Firefox(executable_path='../seleniumDrivers/geckodriver')\n",
    "driver.get(url)"
   ]
  },
  {
   "cell_type": "markdown",
   "metadata": {},
   "source": [
    "Una vez que tenemos el navegador abierto y la página cargada, podemos navegar por la página mediante el repertorio de instrucciones `find_*` [que proporciona Selenium](http://selenium-python.readthedocs.io/locating-elements.html):"
   ]
  },
  {
   "cell_type": "code",
   "execution_count": 5,
   "metadata": {
    "ExecuteTime": {
     "end_time": "2018-02-10T09:17:47.493916Z",
     "start_time": "2018-02-10T09:17:47.477017Z"
    },
    "collapsed": false
   },
   "outputs": [
    {
     "name": "stdout",
     "output_type": "stream",
     "text": [
      "Número de recetas: 36\n"
     ]
    }
   ],
   "source": [
    "recipes = driver.find_elements_by_class_name(\"recipe-card\")\n",
    "print (\"Número de recetas: {}\".format(len(recipes)))"
   ]
  },
  {
   "cell_type": "markdown",
   "metadata": {},
   "source": [
    "Terminaremos cerrando el navegador:"
   ]
  },
  {
   "cell_type": "code",
   "execution_count": 7,
   "metadata": {
    "ExecuteTime": {
     "end_time": "2018-02-10T09:18:52.952490Z",
     "start_time": "2018-02-10T09:18:52.950169Z"
    },
    "collapsed": true
   },
   "outputs": [],
   "source": [
    "driver.quit()"
   ]
  },
  {
   "cell_type": "markdown",
   "metadata": {},
   "source": [
    "Antes de abordar el ejemplo de Yummly vamos a realizar iteraciones más sencillas con otras páginas:\n",
    "\n",
    "## Ejemplo: Generación de contenidos mediante la interacción con una web\n",
    "\n",
    "Selenium nos facilita la interacción con la web. Vamos a poner como ejemplo la interacción con una herramienta de generación de [contraseñas mediante htdigest](https://httpd.apache.org/docs/2.4/programs/htdigest.html) (<https://websistent.com/tools/htdigest-generator-tool/>). Vamos primeramente a rellenar el formulario:"
   ]
  },
  {
   "cell_type": "code",
   "execution_count": 24,
   "metadata": {
    "ExecuteTime": {
     "end_time": "2018-02-10T09:37:39.707335Z",
     "start_time": "2018-02-10T09:37:34.584514Z"
    },
    "collapsed": true
   },
   "outputs": [],
   "source": [
    "from selenium import webdriver\n",
    "\n",
    "url = \"https://websistent.com/tools/htdigest-generator-tool/\"\n",
    "usuario = \"miUsuario\"\n",
    "\n",
    "driver = webdriver.Chrome('../seleniumDrivers/chromedriver')  # Optional argument, if not specified will search path.\n",
    "driver.get(url)\n",
    "\n",
    "element = driver.find_element_by_id(\"uname\")\n",
    "element.send_keys(usuario)"
   ]
  },
  {
   "cell_type": "markdown",
   "metadata": {},
   "source": [
    "Si vamos al navegador veremos que hemos rellenado el primer cambio del formulario. A continuación rellenamos el resto."
   ]
  },
  {
   "cell_type": "code",
   "execution_count": 25,
   "metadata": {
    "ExecuteTime": {
     "end_time": "2018-02-10T09:37:39.892458Z",
     "start_time": "2018-02-10T09:37:39.749428Z"
    },
    "collapsed": true
   },
   "outputs": [],
   "source": [
    "element = driver.find_element_by_id(\"realm\")\n",
    "element.send_keys(\"miRealm\")\n",
    "\n",
    "element = driver.find_element_by_id(\"word1\")\n",
    "element.send_keys(\"12345\")\n",
    "\n",
    "element = driver.find_element_by_id(\"word2\")\n",
    "element.send_keys(\"12345\")"
   ]
  },
  {
   "cell_type": "markdown",
   "metadata": {},
   "source": [
    "Finalmente, buscamos el botón y lo pulsamos:"
   ]
  },
  {
   "cell_type": "code",
   "execution_count": 26,
   "metadata": {
    "ExecuteTime": {
     "end_time": "2018-02-10T09:37:41.351877Z",
     "start_time": "2018-02-10T09:37:41.294162Z"
    },
    "collapsed": true
   },
   "outputs": [],
   "source": [
    "driver.find_element_by_id(\"generate\").click();"
   ]
  },
  {
   "cell_type": "markdown",
   "metadata": {},
   "source": [
    "Vemos que al final de la página se ha generado un texto con el resultado de la ejecución. Vamos a quedarnos con él:"
   ]
  },
  {
   "cell_type": "code",
   "execution_count": 27,
   "metadata": {
    "ExecuteTime": {
     "end_time": "2018-02-10T09:37:43.353618Z",
     "start_time": "2018-02-10T09:37:43.262417Z"
    },
    "collapsed": false
   },
   "outputs": [
    {
     "name": "stdout",
     "output_type": "stream",
     "text": [
      "miUsuario:miRealm:f183ef39e2332c681a3702eee9f8a9ac\n"
     ]
    }
   ],
   "source": [
    "output = driver.find_element_by_id(\"output\").text\n",
    "print (output[output.find(usuario):])\n",
    "driver.quit()"
   ]
  },
  {
   "cell_type": "markdown",
   "metadata": {},
   "source": [
    "Probemos a ejecutarlo todo de una sola vez:"
   ]
  },
  {
   "cell_type": "code",
   "execution_count": 30,
   "metadata": {
    "ExecuteTime": {
     "end_time": "2018-02-10T09:44:09.546192Z",
     "start_time": "2018-02-10T09:44:04.077960Z"
    },
    "collapsed": false
   },
   "outputs": [
    {
     "name": "stdout",
     "output_type": "stream",
     "text": [
      ".\n"
     ]
    }
   ],
   "source": [
    "driver = webdriver.Chrome('../seleniumDrivers/chromedriver')  # Optional argument, if not specified will search path.\n",
    "driver.get(url)\n",
    "\n",
    "element = driver.find_element_by_id(\"uname\")\n",
    "element.send_keys(usuario)\n",
    "\n",
    "element = driver.find_element_by_id(\"realm\")\n",
    "element.send_keys(\"miRealm\")\n",
    "\n",
    "element = driver.find_element_by_id(\"word1\")\n",
    "element.send_keys(\"12345\")\n",
    "\n",
    "element = driver.find_element_by_id(\"word2\")\n",
    "element.send_keys(\"12345\")\n",
    "\n",
    "driver.find_element_by_id(\"generate\").click();\n",
    "\n",
    "output = driver.find_element_by_id(\"output\").text\n",
    "print (output[output.find(usuario):])\n",
    "driver.quit()"
   ]
  },
  {
   "cell_type": "markdown",
   "metadata": {},
   "source": [
    "Vemos que la ejecución no ha funcionado correctamente. Esto se debe a que hay tareas (como la generación del resultado) que tardan un tiempo en ejecutarse, por lo que tenemos que esperar a que terminen para poder extraer un resultado. Para ello hay que implementar esperas ([Waits, en Selenium](http://selenium-python.readthedocs.io/waits.html)) en nuestro código.\n",
    "\n",
    "La primera y más sencilla es hacer una pausa antes de ejecutar una instrucción:"
   ]
  },
  {
   "cell_type": "code",
   "execution_count": 33,
   "metadata": {
    "ExecuteTime": {
     "end_time": "2018-02-10T09:45:35.956292Z",
     "start_time": "2018-02-10T09:45:28.446837Z"
    },
    "collapsed": false
   },
   "outputs": [
    {
     "name": "stdout",
     "output_type": "stream",
     "text": [
      "miUsuario:miRealm:f183ef39e2332c681a3702eee9f8a9ac\n"
     ]
    }
   ],
   "source": [
    "import time\n",
    "driver = webdriver.Chrome('../seleniumDrivers/chromedriver')  # Optional argument, if not specified will search path.\n",
    "driver.get(url)\n",
    "\n",
    "element = driver.find_element_by_id(\"uname\")\n",
    "element.send_keys(usuario)\n",
    "\n",
    "element = driver.find_element_by_id(\"realm\")\n",
    "element.send_keys(\"miRealm\")\n",
    "\n",
    "element = driver.find_element_by_id(\"word1\")\n",
    "element.send_keys(\"12345\")\n",
    "\n",
    "element = driver.find_element_by_id(\"word2\")\n",
    "element.send_keys(\"12345\")\n",
    "\n",
    "driver.find_element_by_id(\"generate\").click();\n",
    "\n",
    "# Esperamos 2 segundos antes de buscar el elemento\n",
    "time.sleep(2)\n",
    "\n",
    "output = driver.find_element_by_id(\"output\").text\n",
    "print (output[output.find(usuario):])\n",
    "driver.quit()"
   ]
  },
  {
   "cell_type": "markdown",
   "metadata": {},
   "source": [
    "Otra opción es utilizar las esperas explícitas de Selenium, con las que pedimos al driver que ejecute una método de manera constante durante durante un periodo de máximo de tiempo hasta que nos devuelva un determinado valor. En caso de que se sobrepase el tiempo máximo de espera entonces lanza una excepción. En nuestro ejemplo, vemos que el resultado siempre aparece en el mismo elemento y que cuando pulsamos en el botón primero aparece el texto \"Loading\". Por tanto, vamos a esperar hasta que desaparezca ese texto para extraer el resultado correcto:"
   ]
  },
  {
   "cell_type": "code",
   "execution_count": 41,
   "metadata": {
    "ExecuteTime": {
     "end_time": "2018-02-10T10:00:54.752440Z",
     "start_time": "2018-02-10T10:00:48.496016Z"
    },
    "collapsed": false
   },
   "outputs": [
    {
     "name": "stdout",
     "output_type": "stream",
     "text": [
      "miUsuario:miRealm:f183ef39e2332c681a3702eee9f8a9ac\n"
     ]
    }
   ],
   "source": [
    "from selenium.webdriver.support.ui import WebDriverWait\n",
    "from selenium.common.exceptions import TimeoutException\n",
    "\n",
    "driver = webdriver.Chrome('../seleniumDrivers/chromedriver')  # Optional argument, if not specified will search path.\n",
    "driver.get(url)\n",
    "\n",
    "element = driver.find_element_by_id(\"uname\")\n",
    "element.send_keys(usuario)\n",
    "\n",
    "element = driver.find_element_by_id(\"realm\")\n",
    "element.send_keys(\"miRealm\")\n",
    "\n",
    "element = driver.find_element_by_id(\"word1\")\n",
    "element.send_keys(\"12345\")\n",
    "\n",
    "element = driver.find_element_by_id(\"word2\")\n",
    "element.send_keys(\"12345\")\n",
    "\n",
    "driver.find_element_by_id(\"generate\").click();\n",
    "\n",
    "try:\n",
    "    # Esperamos como máximo 10 segundos mientras esperamos a que desaparezca el texto \"Loading\"\n",
    "    WebDriverWait(driver, 10).until_not(lambda driver: driver.find_element_by_id(\"output\").text.startswith(\"Loading\"))\n",
    "\n",
    "    output = driver.find_element_by_id(\"output\").text\n",
    "    print (output[output.find(usuario):])\n",
    "\n",
    "except TimeoutException:\n",
    "    print(\"No se ha podido generar el realm o la página ha tardado demasiado\")\n",
    "    \n",
    "finally:\n",
    "    driver.quit()"
   ]
  },
  {
   "cell_type": "markdown",
   "metadata": {},
   "source": [
    "## Ejemplo: Yummly\n",
    "\n",
    "Vamos a atacar nuestro ejemplo motivador usando Selenium. Lo primero que tenemos que hacer es analizar detenidamente el DOM de la web para saber cómo hacer el scroll. En este caso no es sencillo, ya que no hay que hacer scroll sobre la ventana del navegador sino sobre un elemento del mismo. Además, no podemos hacer click en los botones de scroll. Sin embargo, otra cosa que nos permite Selenium es ejecutar scripts en el navegador. Esto es lo que vamos a utilizar para la extracción de los resultados:"
   ]
  },
  {
   "cell_type": "code",
   "execution_count": 60,
   "metadata": {
    "ExecuteTime": {
     "end_time": "2018-02-10T10:37:16.968033Z",
     "start_time": "2018-02-10T10:37:00.655223Z"
    },
    "collapsed": false
   },
   "outputs": [
    {
     "name": "stdout",
     "output_type": "stream",
     "text": [
      "Número de recetas: 36\n",
      "Número de recetas: 66\n"
     ]
    }
   ],
   "source": [
    "from selenium import webdriver\n",
    "import time\n",
    "url = \"http://www.yummly.com/recipes?q=&allowedCuisine=cuisine^cuisine-spanish&noUserSettings=true\"\n",
    "driver = webdriver.Chrome('../seleniumDrivers/chromedriver')  # Optional argument, if not specified will search path.\n",
    "driver.get(url)\n",
    "\n",
    "time.sleep(5)\n",
    "\n",
    "recipes = driver.find_elements_by_class_name(\"recipe-card\")\n",
    "print (\"Número de recetas: {}\".format(len(recipes)))\n",
    "\n",
    "# Realizamos scroll ejecutando código javascript en el navegador\n",
    "driver.execute_script('cookbook = document.getElementsByClassName(\"cookbook\")[0];')\n",
    "driver.execute_script('maxScroll = document.getElementsByClassName(\"RecipeGrid\")[0].clientHeight;')\n",
    "driver.execute_script('cookbook.scrollTo(0, maxScroll);')\n",
    "\n",
    "time.sleep(5)\n",
    "\n",
    "recipes = driver.find_elements_by_class_name(\"recipe-card\")\n",
    "print (\"Número de recetas: {}\".format(len(recipes)))\n",
    "\n",
    "driver.quit()"
   ]
  },
  {
   "cell_type": "markdown",
   "metadata": {},
   "source": [
    "La automatización de este scraping no es nada sencilla ya que la página usa AJAX de forma muy profusa, con grandes retardos, lo que nos perjudica a la hora de extraer la información. Una posible solución puede ser la siguiente:"
   ]
  },
  {
   "cell_type": "code",
   "execution_count": 46,
   "metadata": {
    "ExecuteTime": {
     "end_time": "2018-02-10T10:20:16.513912Z",
     "start_time": "2018-02-10T10:15:26.117555Z"
    },
    "collapsed": false
   },
   "outputs": [
    {
     "name": "stdout",
     "output_type": "stream",
     "text": [
      "Número de recetas: 2221\n"
     ]
    }
   ],
   "source": [
    "from selenium import webdriver\n",
    "from selenium.webdriver.support.ui import WebDriverWait\n",
    "from selenium.common.exceptions import TimeoutException\n",
    "import time\n",
    "\n",
    "def heightHasChanged(driver, lastHeight):\n",
    "    \"\"\"\n",
    "    Comprueba si, tras hacer scroll, el tamaño del panel en el que están las recetas ha cambiado\n",
    "    \"\"\"\n",
    "    new_height = driver.execute_script('return document.getElementsByClassName(\"RecipeGrid\")[0].clientHeight;')\n",
    "    return last_height!= new_height\n",
    "\n",
    "url = \"http://www.yummly.com/recipes?q=&allowedCuisine=cuisine^cuisine-spanish&noUserSettings=true\"\n",
    "driver = webdriver.Chrome('../seleniumDrivers/chromedriver')  # Optional argument, if not specified will search path.\n",
    "driver.get(url)\n",
    "\n",
    "last_height = 0\n",
    "\n",
    "time.sleep(5)\n",
    "\n",
    "try:\n",
    "    while True:\n",
    "        # Realizamos scroll ejecutando código javascript en el navegador\n",
    "        driver.execute_script('cookbook = document.getElementsByClassName(\"cookbook\")[0];')\n",
    "        driver.execute_script('maxScroll = document.getElementsByClassName(\"RecipeGrid\")[0].clientHeight;')\n",
    "        driver.execute_script('cookbook.scrollTo(0, maxScroll);')\n",
    "\n",
    "        # Esperamos hasta que se actualice el scroll o lleguemos hasta el final\n",
    "        WebDriverWait(driver, 10).until(lambda driver: heightHasChanged(driver,last_height))\n",
    "        \n",
    "        last_height = driver.execute_script('return document.getElementsByClassName(\"RecipeGrid\")[0].clientHeight;')\n",
    "\n",
    "except TimeoutException:\n",
    "    # Se supone que hemo hecho scroll hasta el final \n",
    "    recipes = driver.find_elements_by_class_name(\"recipe-card\")\n",
    "    print (\"Número de recetas: {}\".format(len(recipes)))\n",
    "\n",
    "finally:\n",
    "    driver.quit()"
   ]
  },
  {
   "cell_type": "markdown",
   "metadata": {},
   "source": [
    "Finalmente, podemos combinar el uso de Selenium con BeautifulSoup. Para ello hemos de tener en cuenta que cada uno de los elementos extraídos con `find_*` disponen de los atributos `innerHTML` y `outerHTML`, que contienen el texto HTML del elemento. Podemos procesar este HTML con Beautiful Soup, si nos resulta más cómodo:"
   ]
  },
  {
   "cell_type": "code",
   "execution_count": 61,
   "metadata": {
    "ExecuteTime": {
     "end_time": "2018-02-10T10:38:05.421623Z",
     "start_time": "2018-02-10T10:37:48.534601Z"
    },
    "collapsed": false
   },
   "outputs": [
    {
     "name": "stdout",
     "output_type": "stream",
     "text": [
      "Número de recetas: 50\n",
      "Portuguese Fish Stew\n",
      "...\n",
      "Gazpacho\n"
     ]
    }
   ],
   "source": [
    "from selenium import webdriver\n",
    "import time\n",
    "from bs4 import BeautifulSoup\n",
    "\n",
    "url = \"http://www.yummly.com/recipes?q=&allowedCuisine=cuisine^cuisine-spanish&noUserSettings=true\"\n",
    "driver = webdriver.Chrome('../seleniumDrivers/chromedriver')  # Optional argument, if not specified will search path.\n",
    "driver.get(url)\n",
    "\n",
    "time.sleep(5)\n",
    "\n",
    "# Realizamos scroll ejecutando código javascript en el navegador\n",
    "driver.execute_script('cookbook = document.getElementsByClassName(\"cookbook\")[0];')\n",
    "driver.execute_script('maxScroll = document.getElementsByClassName(\"RecipeGrid\")[0].clientHeight;')\n",
    "driver.execute_script('cookbook.scrollTo(0, maxScroll);')\n",
    "\n",
    "time.sleep(5)\n",
    "\n",
    "recipeContainer = driver.find_element_by_class_name(\"RecipeContainer\")\n",
    "html = BeautifulSoup(recipeContainer.get_attribute('outerHTML'), 'lxml')\n",
    "driver.quit()\n",
    "\n",
    "# A partir de aquí, lo tratamos con BS4\n",
    "recipes = html.select(\".recipe-card h2.card-title a\")\n",
    "print(\"Número de recetas: {}\".format(len(recipes)))\n",
    "for title in recipes:\n",
    "    print(title.text)\n",
    "\n"
   ]
  },
  {
   "cell_type": "markdown",
   "metadata": {
    "ExecuteTime": {
     "end_time": "2018-02-09T19:49:12.375327Z",
     "start_time": "2018-02-09T19:49:12.301798Z"
    },
    "collapsed": true
   },
   "source": [
    "## Extra: Acceso a páginas con autenticación (Campus Virtual)\n",
    "\n",
    "\n",
    "Como al ejecutar Selenium estamos lanzando un navegador, esto significa que tenemos toda la información relacionada con la sesión que estamos ejecutando, cookies, etc. Vamos a hacer una última prueba accediendo al Campus Virtual de la UCM con nuestro usuario y contraseña."
   ]
  },
  {
   "cell_type": "code",
   "execution_count": 62,
   "metadata": {
    "ExecuteTime": {
     "end_time": "2018-02-10T10:42:43.668498Z",
     "start_time": "2018-02-10T10:42:19.985789Z"
    },
    "collapsed": false
   },
   "outputs": [
    {
     "name": "stdout",
     "output_type": "stream",
     "text": [
      "Introduzca contraseña ():\n"
     ]
    },
    {
     "data": {
      "text/plain": [
       "True"
      ]
     },
     "execution_count": 62,
     "metadata": {},
     "output_type": "execute_result"
    }
   ],
   "source": [
    "from selenium import webdriver\n",
    "from selenium.webdriver.support.ui import Select\n",
    "from selenium.webdriver.support.ui import WebDriverWait\n",
    "import getpass\n",
    "\n",
    "# Cargamos el driver y el Campus Virtual\n",
    "driver = webdriver.Chrome('../seleniumDrivers/chromedriver')\n",
    "driver.get('http://www.ucm.es/campusvirtual')\n",
    "assert 'Campus Virtual - UCM' in driver.title\n",
    "driver.find_element_by_name('submit').click()\n",
    "\n",
    "# Usuario y contraseña\n",
    "user = '' # Indica aquí tu usuario (la contraseña nos la pedirá por la consola)\n",
    "password = getpass.getpass('Introduzca contraseña (%s):' % user)\n",
    "driver.find_element_by_id('username').send_keys(user)\n",
    "driver.find_element_by_id('password').send_keys(password)\n",
    "driver.find_element_by_class_name('btn').click()\n",
    "\n",
    "# Esperamos hasta que lleguemos a la página de Mi Campus (hay varias redirecciones)\n",
    "WebDriverWait(driver, 10).until(lambda driver: 'Mi Campus' in driver.title)"
   ]
  },
  {
   "cell_type": "markdown",
   "metadata": {},
   "source": [
    "Una vez dentro, vamos a listar todos los cursos en los que estamos dados de alta en el Campus"
   ]
  },
  {
   "cell_type": "code",
   "execution_count": 64,
   "metadata": {
    "ExecuteTime": {
     "end_time": "2018-02-10T10:43:51.686489Z",
     "start_time": "2018-02-10T10:43:49.690436Z"
    },
    "collapsed": false
   },
   "outputs": [
    {
     "name": "stdout",
     "output_type": "stream",
     "text": [
      "Número de cursos: 125\n",
      "Curso:  ANÁLISIS DE REDES SOCIALES(https://cv4.ucm.es/moodle/auth/saml/index.php?urlCurso=https://cv4.ucm.es/moodle/course/view.php?id=90511)\n",
      "...\n",
      "Curso: (https://cv4.ucm.es/moodle/auth/saml/index.php?urlCurso=https://cv4.ucm.es/moodle/course/view.php?id=9783)\n"
     ]
    }
   ],
   "source": [
    "cursos = driver.find_elements_by_css_selector(\"#panel-sliders table.adminlist th.left a\")\n",
    "print(\"Número de cursos: {}\".format(len(cursos)))\n",
    "for curso in cursos:\n",
    "    print(\"Curso: {}({})\".format(curso.text,curso.get_attribute(\"href\")))"
   ]
  },
  {
   "cell_type": "markdown",
   "metadata": {},
   "source": [
    "Un detalle curioso es que solo vemos los nombres de los cursos **que están visibles en el navegador**. Esto se debe a que muchos de los cursos están ocultos mediante lo que se conoce como un \"acordeón\". Esto nos permite hacer lo que se conoce como **screen scraping**, es decir, solo podemos cosechar los datos que puede ver un usuario humano interactuando con el navegador.\n",
    "\n",
    "Por este motivo, en este caso nos puede resultar más interesante procesar este catálogo con BS4 (que procesa el HTML tal cual, ignorando lo que ve o no ve el usuario)."
   ]
  },
  {
   "cell_type": "code",
   "execution_count": 67,
   "metadata": {
    "ExecuteTime": {
     "end_time": "2018-02-10T10:48:10.941531Z",
     "start_time": "2018-02-10T10:48:10.817079Z"
    },
    "collapsed": false
   },
   "outputs": [
    {
     "name": "stdout",
     "output_type": "stream",
     "text": [
      "Número de cursos: 125\n",
      "Curso:  ANÁLISIS DE REDES SOCIALES(https://cv4.ucm.es/moodle/auth/saml/index.php?urlCurso=https://cv4.ucm.es/moodle/course/view.php?id=90511)\n",
      "...\n",
      "Curso: Espacio Coordinación de la Facultad de Informática(https://cv4.ucm.es/moodle/auth/saml/index.php?urlCurso=https://cv4.ucm.es/moodle/course/view.php?id=9783)\n"
     ]
    }
   ],
   "source": [
    "from bs4 import BeautifulSoup\n",
    "\n",
    "html = BeautifulSoup(driver.find_element_by_id(\"panel-sliders\").get_attribute('outerHTML'), 'lxml')\n",
    "driver.quit()\n",
    "cursos = html.select(\"table.adminlist th.left a\")\n",
    "print(\"Número de cursos: {}\".format(len(cursos)))\n",
    "for curso in cursos:\n",
    "    print(\"Curso: {}({})\".format(curso.text,curso[\"href\"]))"
   ]
  }
 ],
 "metadata": {
  "kernelspec": {
   "display_name": "Python 3",
   "language": "python",
   "name": "python3"
  },
  "language_info": {
   "codemirror_mode": {
    "name": "ipython",
    "version": 3
   },
   "file_extension": ".py",
   "mimetype": "text/x-python",
   "name": "python",
   "nbconvert_exporter": "python",
   "pygments_lexer": "ipython3",
   "version": "3.5.2"
  },
  "toc": {
   "colors": {
    "hover_highlight": "#DAA520",
    "navigate_num": "#000000",
    "navigate_text": "#333333",
    "running_highlight": "#FF0000",
    "selected_highlight": "#FFD700",
    "sidebar_border": "#EEEEEE",
    "wrapper_background": "#FFFFFF"
   },
   "moveMenuLeft": true,
   "nav_menu": {
    "height": "31px",
    "width": "252px"
   },
   "navigate_menu": true,
   "number_sections": true,
   "sideBar": true,
   "threshold": 4,
   "toc_cell": false,
   "toc_section_display": "block",
   "toc_window_display": false,
   "widenNotebook": false
  },
  "varInspector": {
   "cols": {
    "lenName": 16,
    "lenType": 16,
    "lenVar": 40
   },
   "kernels_config": {
    "python": {
     "delete_cmd_postfix": "",
     "delete_cmd_prefix": "del ",
     "library": "var_list.py",
     "varRefreshCmd": "print(var_dic_list())"
    },
    "r": {
     "delete_cmd_postfix": ") ",
     "delete_cmd_prefix": "rm(",
     "library": "var_list.r",
     "varRefreshCmd": "cat(var_dic_list()) "
    }
   },
   "types_to_exclude": [
    "module",
    "function",
    "builtin_function_or_method",
    "instance",
    "_Feature"
   ],
   "window_display": false
  }
 },
 "nbformat": 4,
 "nbformat_minor": 0
}
